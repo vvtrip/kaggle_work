{
 "cells": [
  {
   "cell_type": "code",
   "execution_count": 1,
   "id": "3992f7cd",
   "metadata": {
    "_cell_guid": "b1076dfc-b9ad-4769-8c92-a6c4dae69d19",
    "_uuid": "8f2839f25d086af736a60e9eeb907d3b93b6e0e5",
    "execution": {
     "iopub.execute_input": "2024-09-10T16:54:05.881201Z",
     "iopub.status.busy": "2024-09-10T16:54:05.880743Z",
     "iopub.status.idle": "2024-09-10T16:54:06.744213Z",
     "shell.execute_reply": "2024-09-10T16:54:06.742594Z"
    },
    "papermill": {
     "duration": 0.874094,
     "end_time": "2024-09-10T16:54:06.746794",
     "exception": false,
     "start_time": "2024-09-10T16:54:05.872700",
     "status": "completed"
    },
    "tags": []
   },
   "outputs": [
    {
     "name": "stdout",
     "output_type": "stream",
     "text": [
      "/kaggle/input/airbnb-set/AB_NYC_2019.csv\n"
     ]
    }
   ],
   "source": [
    "# This Python 3 environment comes with many helpful analytics libraries installed\n",
    "# It is defined by the kaggle/python Docker image: https://github.com/kaggle/docker-python\n",
    "# For example, here's several helpful packages to load\n",
    "\n",
    "import numpy as np # linear algebra\n",
    "import pandas as pd # data processing, CSV file I/O (e.g. pd.read_csv)\n",
    "\n",
    "# Input data files are available in the read-only \"../input/\" directory\n",
    "# For example, running this (by clicking run or pressing Shift+Enter) will list all files under the input directory\n",
    "\n",
    "import os\n",
    "for dirname, _, filenames in os.walk('/kaggle/input'):\n",
    "    for filename in filenames:\n",
    "        print(os.path.join(dirname, filename))\n",
    "\n",
    "# You can write up to 20GB to the current directory (/kaggle/working/) that gets preserved as output when you create a version using \"Save & Run All\" \n",
    "# You can also write temporary files to /kaggle/temp/, but they won't be saved outside of the current session"
   ]
  },
  {
   "cell_type": "code",
   "execution_count": 2,
   "id": "47cb03e8",
   "metadata": {
    "execution": {
     "iopub.execute_input": "2024-09-10T16:54:06.760825Z",
     "iopub.status.busy": "2024-09-10T16:54:06.759765Z",
     "iopub.status.idle": "2024-09-10T16:54:07.062537Z",
     "shell.execute_reply": "2024-09-10T16:54:07.061159Z"
    },
    "papermill": {
     "duration": 0.312608,
     "end_time": "2024-09-10T16:54:07.065430",
     "exception": false,
     "start_time": "2024-09-10T16:54:06.752822",
     "status": "completed"
    },
    "tags": []
   },
   "outputs": [],
   "source": [
    "df = pd.read_csv('/kaggle/input/airbnb-set/AB_NYC_2019.csv')"
   ]
  },
  {
   "cell_type": "markdown",
   "id": "7a37e147",
   "metadata": {
    "papermill": {
     "duration": 0.005592,
     "end_time": "2024-09-10T16:54:07.077230",
     "exception": false,
     "start_time": "2024-09-10T16:54:07.071638",
     "status": "completed"
    },
    "tags": []
   },
   "source": [
    "# Data Preprocessing"
   ]
  },
  {
   "cell_type": "code",
   "execution_count": 3,
   "id": "3e1611c5",
   "metadata": {
    "execution": {
     "iopub.execute_input": "2024-09-10T16:54:07.090675Z",
     "iopub.status.busy": "2024-09-10T16:54:07.090223Z",
     "iopub.status.idle": "2024-09-10T16:54:07.136627Z",
     "shell.execute_reply": "2024-09-10T16:54:07.135425Z"
    },
    "papermill": {
     "duration": 0.056039,
     "end_time": "2024-09-10T16:54:07.139076",
     "exception": false,
     "start_time": "2024-09-10T16:54:07.083037",
     "status": "completed"
    },
    "tags": []
   },
   "outputs": [
    {
     "name": "stdout",
     "output_type": "stream",
     "text": [
      "<class 'pandas.core.frame.DataFrame'>\n",
      "RangeIndex: 48895 entries, 0 to 48894\n",
      "Data columns (total 16 columns):\n",
      " #   Column                          Non-Null Count  Dtype  \n",
      "---  ------                          --------------  -----  \n",
      " 0   id                              48895 non-null  int64  \n",
      " 1   name                            48879 non-null  object \n",
      " 2   host_id                         48895 non-null  int64  \n",
      " 3   host_name                       48874 non-null  object \n",
      " 4   neighbourhood_group             48895 non-null  object \n",
      " 5   neighbourhood                   48895 non-null  object \n",
      " 6   latitude                        48895 non-null  float64\n",
      " 7   longitude                       48895 non-null  float64\n",
      " 8   room_type                       48895 non-null  object \n",
      " 9   price                           48895 non-null  int64  \n",
      " 10  minimum_nights                  48895 non-null  int64  \n",
      " 11  number_of_reviews               48895 non-null  int64  \n",
      " 12  last_review                     38843 non-null  object \n",
      " 13  reviews_per_month               38843 non-null  float64\n",
      " 14  calculated_host_listings_count  48895 non-null  int64  \n",
      " 15  availability_365                48895 non-null  int64  \n",
      "dtypes: float64(3), int64(7), object(6)\n",
      "memory usage: 6.0+ MB\n"
     ]
    }
   ],
   "source": [
    "df.info()"
   ]
  },
  {
   "cell_type": "code",
   "execution_count": 4,
   "id": "03d81135",
   "metadata": {
    "execution": {
     "iopub.execute_input": "2024-09-10T16:54:07.152351Z",
     "iopub.status.busy": "2024-09-10T16:54:07.151924Z",
     "iopub.status.idle": "2024-09-10T16:54:07.221109Z",
     "shell.execute_reply": "2024-09-10T16:54:07.219823Z"
    },
    "papermill": {
     "duration": 0.078752,
     "end_time": "2024-09-10T16:54:07.223726",
     "exception": false,
     "start_time": "2024-09-10T16:54:07.144974",
     "status": "completed"
    },
    "tags": []
   },
   "outputs": [
    {
     "data": {
      "text/html": [
       "<div>\n",
       "<style scoped>\n",
       "    .dataframe tbody tr th:only-of-type {\n",
       "        vertical-align: middle;\n",
       "    }\n",
       "\n",
       "    .dataframe tbody tr th {\n",
       "        vertical-align: top;\n",
       "    }\n",
       "\n",
       "    .dataframe thead th {\n",
       "        text-align: right;\n",
       "    }\n",
       "</style>\n",
       "<table border=\"1\" class=\"dataframe\">\n",
       "  <thead>\n",
       "    <tr style=\"text-align: right;\">\n",
       "      <th></th>\n",
       "      <th>id</th>\n",
       "      <th>host_id</th>\n",
       "      <th>latitude</th>\n",
       "      <th>longitude</th>\n",
       "      <th>price</th>\n",
       "      <th>minimum_nights</th>\n",
       "      <th>number_of_reviews</th>\n",
       "      <th>reviews_per_month</th>\n",
       "      <th>calculated_host_listings_count</th>\n",
       "      <th>availability_365</th>\n",
       "    </tr>\n",
       "  </thead>\n",
       "  <tbody>\n",
       "    <tr>\n",
       "      <th>count</th>\n",
       "      <td>4.889500e+04</td>\n",
       "      <td>4.889500e+04</td>\n",
       "      <td>48895.000000</td>\n",
       "      <td>48895.000000</td>\n",
       "      <td>48895.000000</td>\n",
       "      <td>48895.000000</td>\n",
       "      <td>48895.000000</td>\n",
       "      <td>38843.000000</td>\n",
       "      <td>48895.000000</td>\n",
       "      <td>48895.000000</td>\n",
       "    </tr>\n",
       "    <tr>\n",
       "      <th>mean</th>\n",
       "      <td>1.901714e+07</td>\n",
       "      <td>6.762001e+07</td>\n",
       "      <td>40.728949</td>\n",
       "      <td>-73.952170</td>\n",
       "      <td>152.720687</td>\n",
       "      <td>7.029962</td>\n",
       "      <td>23.274466</td>\n",
       "      <td>1.373221</td>\n",
       "      <td>7.143982</td>\n",
       "      <td>112.781327</td>\n",
       "    </tr>\n",
       "    <tr>\n",
       "      <th>std</th>\n",
       "      <td>1.098311e+07</td>\n",
       "      <td>7.861097e+07</td>\n",
       "      <td>0.054530</td>\n",
       "      <td>0.046157</td>\n",
       "      <td>240.154170</td>\n",
       "      <td>20.510550</td>\n",
       "      <td>44.550582</td>\n",
       "      <td>1.680442</td>\n",
       "      <td>32.952519</td>\n",
       "      <td>131.622289</td>\n",
       "    </tr>\n",
       "    <tr>\n",
       "      <th>min</th>\n",
       "      <td>2.539000e+03</td>\n",
       "      <td>2.438000e+03</td>\n",
       "      <td>40.499790</td>\n",
       "      <td>-74.244420</td>\n",
       "      <td>0.000000</td>\n",
       "      <td>1.000000</td>\n",
       "      <td>0.000000</td>\n",
       "      <td>0.010000</td>\n",
       "      <td>1.000000</td>\n",
       "      <td>0.000000</td>\n",
       "    </tr>\n",
       "    <tr>\n",
       "      <th>25%</th>\n",
       "      <td>9.471945e+06</td>\n",
       "      <td>7.822033e+06</td>\n",
       "      <td>40.690100</td>\n",
       "      <td>-73.983070</td>\n",
       "      <td>69.000000</td>\n",
       "      <td>1.000000</td>\n",
       "      <td>1.000000</td>\n",
       "      <td>0.190000</td>\n",
       "      <td>1.000000</td>\n",
       "      <td>0.000000</td>\n",
       "    </tr>\n",
       "    <tr>\n",
       "      <th>50%</th>\n",
       "      <td>1.967728e+07</td>\n",
       "      <td>3.079382e+07</td>\n",
       "      <td>40.723070</td>\n",
       "      <td>-73.955680</td>\n",
       "      <td>106.000000</td>\n",
       "      <td>3.000000</td>\n",
       "      <td>5.000000</td>\n",
       "      <td>0.720000</td>\n",
       "      <td>1.000000</td>\n",
       "      <td>45.000000</td>\n",
       "    </tr>\n",
       "    <tr>\n",
       "      <th>75%</th>\n",
       "      <td>2.915218e+07</td>\n",
       "      <td>1.074344e+08</td>\n",
       "      <td>40.763115</td>\n",
       "      <td>-73.936275</td>\n",
       "      <td>175.000000</td>\n",
       "      <td>5.000000</td>\n",
       "      <td>24.000000</td>\n",
       "      <td>2.020000</td>\n",
       "      <td>2.000000</td>\n",
       "      <td>227.000000</td>\n",
       "    </tr>\n",
       "    <tr>\n",
       "      <th>max</th>\n",
       "      <td>3.648724e+07</td>\n",
       "      <td>2.743213e+08</td>\n",
       "      <td>40.913060</td>\n",
       "      <td>-73.712990</td>\n",
       "      <td>10000.000000</td>\n",
       "      <td>1250.000000</td>\n",
       "      <td>629.000000</td>\n",
       "      <td>58.500000</td>\n",
       "      <td>327.000000</td>\n",
       "      <td>365.000000</td>\n",
       "    </tr>\n",
       "  </tbody>\n",
       "</table>\n",
       "</div>"
      ],
      "text/plain": [
       "                 id       host_id      latitude     longitude         price  \\\n",
       "count  4.889500e+04  4.889500e+04  48895.000000  48895.000000  48895.000000   \n",
       "mean   1.901714e+07  6.762001e+07     40.728949    -73.952170    152.720687   \n",
       "std    1.098311e+07  7.861097e+07      0.054530      0.046157    240.154170   \n",
       "min    2.539000e+03  2.438000e+03     40.499790    -74.244420      0.000000   \n",
       "25%    9.471945e+06  7.822033e+06     40.690100    -73.983070     69.000000   \n",
       "50%    1.967728e+07  3.079382e+07     40.723070    -73.955680    106.000000   \n",
       "75%    2.915218e+07  1.074344e+08     40.763115    -73.936275    175.000000   \n",
       "max    3.648724e+07  2.743213e+08     40.913060    -73.712990  10000.000000   \n",
       "\n",
       "       minimum_nights  number_of_reviews  reviews_per_month  \\\n",
       "count    48895.000000       48895.000000       38843.000000   \n",
       "mean         7.029962          23.274466           1.373221   \n",
       "std         20.510550          44.550582           1.680442   \n",
       "min          1.000000           0.000000           0.010000   \n",
       "25%          1.000000           1.000000           0.190000   \n",
       "50%          3.000000           5.000000           0.720000   \n",
       "75%          5.000000          24.000000           2.020000   \n",
       "max       1250.000000         629.000000          58.500000   \n",
       "\n",
       "       calculated_host_listings_count  availability_365  \n",
       "count                    48895.000000      48895.000000  \n",
       "mean                         7.143982        112.781327  \n",
       "std                         32.952519        131.622289  \n",
       "min                          1.000000          0.000000  \n",
       "25%                          1.000000          0.000000  \n",
       "50%                          1.000000         45.000000  \n",
       "75%                          2.000000        227.000000  \n",
       "max                        327.000000        365.000000  "
      ]
     },
     "execution_count": 4,
     "metadata": {},
     "output_type": "execute_result"
    }
   ],
   "source": [
    "df.describe()"
   ]
  },
  {
   "cell_type": "code",
   "execution_count": 5,
   "id": "2586a617",
   "metadata": {
    "execution": {
     "iopub.execute_input": "2024-09-10T16:54:07.238831Z",
     "iopub.status.busy": "2024-09-10T16:54:07.237825Z",
     "iopub.status.idle": "2024-09-10T16:54:07.262310Z",
     "shell.execute_reply": "2024-09-10T16:54:07.261063Z"
    },
    "papermill": {
     "duration": 0.034581,
     "end_time": "2024-09-10T16:54:07.264848",
     "exception": false,
     "start_time": "2024-09-10T16:54:07.230267",
     "status": "completed"
    },
    "tags": []
   },
   "outputs": [
    {
     "data": {
      "text/plain": [
       "id                                    0\n",
       "name                                 16\n",
       "host_id                               0\n",
       "host_name                            21\n",
       "neighbourhood_group                   0\n",
       "neighbourhood                         0\n",
       "latitude                              0\n",
       "longitude                             0\n",
       "room_type                             0\n",
       "price                                 0\n",
       "minimum_nights                        0\n",
       "number_of_reviews                     0\n",
       "last_review                       10052\n",
       "reviews_per_month                 10052\n",
       "calculated_host_listings_count        0\n",
       "availability_365                      0\n",
       "dtype: int64"
      ]
     },
     "execution_count": 5,
     "metadata": {},
     "output_type": "execute_result"
    }
   ],
   "source": [
    "df.isnull().sum()"
   ]
  },
  {
   "cell_type": "code",
   "execution_count": 6,
   "id": "03e1c1e9",
   "metadata": {
    "execution": {
     "iopub.execute_input": "2024-09-10T16:54:07.280051Z",
     "iopub.status.busy": "2024-09-10T16:54:07.278885Z",
     "iopub.status.idle": "2024-09-10T16:54:07.290084Z",
     "shell.execute_reply": "2024-09-10T16:54:07.289031Z"
    },
    "papermill": {
     "duration": 0.021494,
     "end_time": "2024-09-10T16:54:07.292632",
     "exception": false,
     "start_time": "2024-09-10T16:54:07.271138",
     "status": "completed"
    },
    "tags": []
   },
   "outputs": [
    {
     "data": {
      "text/plain": [
       "array(['John', 'Jennifer', 'Elisabeth', ..., 'Abayomi', 'Alberth',\n",
       "       'Ilgar & Aysel'], dtype=object)"
      ]
     },
     "execution_count": 6,
     "metadata": {},
     "output_type": "execute_result"
    }
   ],
   "source": [
    "df.host_name.unique()"
   ]
  },
  {
   "cell_type": "code",
   "execution_count": 7,
   "id": "6a8c5d69",
   "metadata": {
    "execution": {
     "iopub.execute_input": "2024-09-10T16:54:07.307245Z",
     "iopub.status.busy": "2024-09-10T16:54:07.306836Z",
     "iopub.status.idle": "2024-09-10T16:54:07.325874Z",
     "shell.execute_reply": "2024-09-10T16:54:07.324711Z"
    },
    "papermill": {
     "duration": 0.028994,
     "end_time": "2024-09-10T16:54:07.328172",
     "exception": false,
     "start_time": "2024-09-10T16:54:07.299178",
     "status": "completed"
    },
    "tags": []
   },
   "outputs": [
    {
     "data": {
      "text/plain": [
       "array(['Clean & quiet apt home by the park', 'Skylit Midtown Castle',\n",
       "       'THE VILLAGE OF HARLEM....NEW YORK !', ...,\n",
       "       'Sunny Studio at Historical Neighborhood',\n",
       "       '43rd St. Time Square-cozy single bed',\n",
       "       \"Trendy duplex in the very heart of Hell's Kitchen\"], dtype=object)"
      ]
     },
     "execution_count": 7,
     "metadata": {},
     "output_type": "execute_result"
    }
   ],
   "source": [
    "df.name.unique()"
   ]
  },
  {
   "cell_type": "code",
   "execution_count": 8,
   "id": "0130f901",
   "metadata": {
    "execution": {
     "iopub.execute_input": "2024-09-10T16:54:07.342903Z",
     "iopub.status.busy": "2024-09-10T16:54:07.342480Z",
     "iopub.status.idle": "2024-09-10T16:54:07.355723Z",
     "shell.execute_reply": "2024-09-10T16:54:07.354644Z"
    },
    "papermill": {
     "duration": 0.023605,
     "end_time": "2024-09-10T16:54:07.358268",
     "exception": false,
     "start_time": "2024-09-10T16:54:07.334663",
     "status": "completed"
    },
    "tags": []
   },
   "outputs": [
    {
     "data": {
      "text/plain": [
       "reviews_per_month\n",
       "0.02     919\n",
       "0.05     893\n",
       "1.00     893\n",
       "0.03     804\n",
       "0.16     667\n",
       "        ... \n",
       "9.53       1\n",
       "9.74       1\n",
       "6.06       1\n",
       "8.25       1\n",
       "10.54      1\n",
       "Name: count, Length: 937, dtype: int64"
      ]
     },
     "execution_count": 8,
     "metadata": {},
     "output_type": "execute_result"
    }
   ],
   "source": [
    "df.reviews_per_month .value_counts()"
   ]
  },
  {
   "cell_type": "code",
   "execution_count": 9,
   "id": "e0beb01f",
   "metadata": {
    "execution": {
     "iopub.execute_input": "2024-09-10T16:54:07.373997Z",
     "iopub.status.busy": "2024-09-10T16:54:07.373578Z",
     "iopub.status.idle": "2024-09-10T16:54:07.387765Z",
     "shell.execute_reply": "2024-09-10T16:54:07.386680Z"
    },
    "papermill": {
     "duration": 0.024747,
     "end_time": "2024-09-10T16:54:07.390267",
     "exception": false,
     "start_time": "2024-09-10T16:54:07.365520",
     "status": "completed"
    },
    "tags": []
   },
   "outputs": [
    {
     "data": {
      "text/plain": [
       "last_review\n",
       "2019-06-23    1413\n",
       "2019-07-01    1359\n",
       "2019-06-30    1341\n",
       "2019-06-24     875\n",
       "2019-07-07     718\n",
       "              ... \n",
       "2012-12-25       1\n",
       "2013-10-01       1\n",
       "2014-05-29       1\n",
       "2014-04-19       1\n",
       "2018-03-29       1\n",
       "Name: count, Length: 1764, dtype: int64"
      ]
     },
     "execution_count": 9,
     "metadata": {},
     "output_type": "execute_result"
    }
   ],
   "source": [
    "df.last_review.value_counts()"
   ]
  },
  {
   "cell_type": "code",
   "execution_count": 10,
   "id": "82267a89",
   "metadata": {
    "execution": {
     "iopub.execute_input": "2024-09-10T16:54:07.405393Z",
     "iopub.status.busy": "2024-09-10T16:54:07.404990Z",
     "iopub.status.idle": "2024-09-10T16:54:07.436713Z",
     "shell.execute_reply": "2024-09-10T16:54:07.435599Z"
    },
    "papermill": {
     "duration": 0.042057,
     "end_time": "2024-09-10T16:54:07.439047",
     "exception": false,
     "start_time": "2024-09-10T16:54:07.396990",
     "status": "completed"
    },
    "tags": []
   },
   "outputs": [
    {
     "data": {
      "text/html": [
       "<div>\n",
       "<style scoped>\n",
       "    .dataframe tbody tr th:only-of-type {\n",
       "        vertical-align: middle;\n",
       "    }\n",
       "\n",
       "    .dataframe tbody tr th {\n",
       "        vertical-align: top;\n",
       "    }\n",
       "\n",
       "    .dataframe thead th {\n",
       "        text-align: right;\n",
       "    }\n",
       "</style>\n",
       "<table border=\"1\" class=\"dataframe\">\n",
       "  <thead>\n",
       "    <tr style=\"text-align: right;\">\n",
       "      <th></th>\n",
       "      <th>id</th>\n",
       "      <th>name</th>\n",
       "      <th>host_id</th>\n",
       "      <th>host_name</th>\n",
       "      <th>neighbourhood_group</th>\n",
       "      <th>neighbourhood</th>\n",
       "      <th>latitude</th>\n",
       "      <th>longitude</th>\n",
       "      <th>room_type</th>\n",
       "      <th>price</th>\n",
       "      <th>minimum_nights</th>\n",
       "      <th>number_of_reviews</th>\n",
       "      <th>last_review</th>\n",
       "      <th>reviews_per_month</th>\n",
       "      <th>calculated_host_listings_count</th>\n",
       "      <th>availability_365</th>\n",
       "    </tr>\n",
       "  </thead>\n",
       "  <tbody>\n",
       "    <tr>\n",
       "      <th>24152</th>\n",
       "      <td>19456810</td>\n",
       "      <td>Hillside Hotel</td>\n",
       "      <td>134184451</td>\n",
       "      <td>Hillside Hotel</td>\n",
       "      <td>Queens</td>\n",
       "      <td>Briarwood</td>\n",
       "      <td>40.70454</td>\n",
       "      <td>-73.81549</td>\n",
       "      <td>Private room</td>\n",
       "      <td>93</td>\n",
       "      <td>1</td>\n",
       "      <td>2</td>\n",
       "      <td>2017-07-23</td>\n",
       "      <td>0.08</td>\n",
       "      <td>18</td>\n",
       "      <td>90</td>\n",
       "    </tr>\n",
       "    <tr>\n",
       "      <th>24607</th>\n",
       "      <td>19785737</td>\n",
       "      <td>Hillside Hotel</td>\n",
       "      <td>134184451</td>\n",
       "      <td>Hillside Hotel</td>\n",
       "      <td>Queens</td>\n",
       "      <td>Jamaica</td>\n",
       "      <td>40.70445</td>\n",
       "      <td>-73.81399</td>\n",
       "      <td>Private room</td>\n",
       "      <td>135</td>\n",
       "      <td>1</td>\n",
       "      <td>1</td>\n",
       "      <td>2017-10-08</td>\n",
       "      <td>0.05</td>\n",
       "      <td>18</td>\n",
       "      <td>180</td>\n",
       "    </tr>\n",
       "    <tr>\n",
       "      <th>26734</th>\n",
       "      <td>21231543</td>\n",
       "      <td>Hillside Hotel</td>\n",
       "      <td>134184451</td>\n",
       "      <td>Hillside Hotel</td>\n",
       "      <td>Queens</td>\n",
       "      <td>Jamaica</td>\n",
       "      <td>40.70428</td>\n",
       "      <td>-73.81353</td>\n",
       "      <td>Private room</td>\n",
       "      <td>135</td>\n",
       "      <td>1</td>\n",
       "      <td>0</td>\n",
       "      <td>NaN</td>\n",
       "      <td>NaN</td>\n",
       "      <td>18</td>\n",
       "      <td>365</td>\n",
       "    </tr>\n",
       "    <tr>\n",
       "      <th>26752</th>\n",
       "      <td>21243952</td>\n",
       "      <td>Hillside Hotel</td>\n",
       "      <td>134184451</td>\n",
       "      <td>Hillside Hotel</td>\n",
       "      <td>Queens</td>\n",
       "      <td>Jamaica</td>\n",
       "      <td>40.70288</td>\n",
       "      <td>-73.81531</td>\n",
       "      <td>Private room</td>\n",
       "      <td>135</td>\n",
       "      <td>1</td>\n",
       "      <td>1</td>\n",
       "      <td>2018-01-02</td>\n",
       "      <td>0.05</td>\n",
       "      <td>18</td>\n",
       "      <td>365</td>\n",
       "    </tr>\n",
       "    <tr>\n",
       "      <th>26753</th>\n",
       "      <td>21244035</td>\n",
       "      <td>Hillside Hotel</td>\n",
       "      <td>134184451</td>\n",
       "      <td>Hillside Hotel</td>\n",
       "      <td>Queens</td>\n",
       "      <td>Jamaica</td>\n",
       "      <td>40.70319</td>\n",
       "      <td>-73.81410</td>\n",
       "      <td>Private room</td>\n",
       "      <td>135</td>\n",
       "      <td>1</td>\n",
       "      <td>2</td>\n",
       "      <td>2018-06-10</td>\n",
       "      <td>0.09</td>\n",
       "      <td>18</td>\n",
       "      <td>365</td>\n",
       "    </tr>\n",
       "    <tr>\n",
       "      <th>26889</th>\n",
       "      <td>21311903</td>\n",
       "      <td>Hillside Hotel</td>\n",
       "      <td>134184451</td>\n",
       "      <td>Hillside Hotel</td>\n",
       "      <td>Queens</td>\n",
       "      <td>Jamaica</td>\n",
       "      <td>40.70258</td>\n",
       "      <td>-73.81510</td>\n",
       "      <td>Private room</td>\n",
       "      <td>135</td>\n",
       "      <td>1</td>\n",
       "      <td>0</td>\n",
       "      <td>NaN</td>\n",
       "      <td>NaN</td>\n",
       "      <td>18</td>\n",
       "      <td>365</td>\n",
       "    </tr>\n",
       "    <tr>\n",
       "      <th>26891</th>\n",
       "      <td>21312075</td>\n",
       "      <td>Hillside Hotel</td>\n",
       "      <td>134184451</td>\n",
       "      <td>Hillside Hotel</td>\n",
       "      <td>Queens</td>\n",
       "      <td>Jamaica</td>\n",
       "      <td>40.70333</td>\n",
       "      <td>-73.81380</td>\n",
       "      <td>Private room</td>\n",
       "      <td>135</td>\n",
       "      <td>1</td>\n",
       "      <td>0</td>\n",
       "      <td>NaN</td>\n",
       "      <td>NaN</td>\n",
       "      <td>18</td>\n",
       "      <td>365</td>\n",
       "    </tr>\n",
       "    <tr>\n",
       "      <th>26892</th>\n",
       "      <td>21312191</td>\n",
       "      <td>Hillside Hotel</td>\n",
       "      <td>134184451</td>\n",
       "      <td>Hillside Hotel</td>\n",
       "      <td>Queens</td>\n",
       "      <td>Jamaica</td>\n",
       "      <td>40.70259</td>\n",
       "      <td>-73.81415</td>\n",
       "      <td>Private room</td>\n",
       "      <td>135</td>\n",
       "      <td>1</td>\n",
       "      <td>0</td>\n",
       "      <td>NaN</td>\n",
       "      <td>NaN</td>\n",
       "      <td>18</td>\n",
       "      <td>365</td>\n",
       "    </tr>\n",
       "    <tr>\n",
       "      <th>26893</th>\n",
       "      <td>21312225</td>\n",
       "      <td>Hillside Hotel</td>\n",
       "      <td>134184451</td>\n",
       "      <td>Hillside Hotel</td>\n",
       "      <td>Queens</td>\n",
       "      <td>Jamaica</td>\n",
       "      <td>40.70262</td>\n",
       "      <td>-73.81526</td>\n",
       "      <td>Private room</td>\n",
       "      <td>135</td>\n",
       "      <td>1</td>\n",
       "      <td>1</td>\n",
       "      <td>2017-12-10</td>\n",
       "      <td>0.05</td>\n",
       "      <td>18</td>\n",
       "      <td>365</td>\n",
       "    </tr>\n",
       "    <tr>\n",
       "      <th>26894</th>\n",
       "      <td>21312283</td>\n",
       "      <td>Hillside Hotel</td>\n",
       "      <td>134184451</td>\n",
       "      <td>Hillside Hotel</td>\n",
       "      <td>Queens</td>\n",
       "      <td>Briarwood</td>\n",
       "      <td>40.70450</td>\n",
       "      <td>-73.81447</td>\n",
       "      <td>Private room</td>\n",
       "      <td>135</td>\n",
       "      <td>1</td>\n",
       "      <td>0</td>\n",
       "      <td>NaN</td>\n",
       "      <td>NaN</td>\n",
       "      <td>18</td>\n",
       "      <td>355</td>\n",
       "    </tr>\n",
       "    <tr>\n",
       "      <th>26895</th>\n",
       "      <td>21312330</td>\n",
       "      <td>Hillside Hotel</td>\n",
       "      <td>134184451</td>\n",
       "      <td>Hillside Hotel</td>\n",
       "      <td>Queens</td>\n",
       "      <td>Briarwood</td>\n",
       "      <td>40.70458</td>\n",
       "      <td>-73.81418</td>\n",
       "      <td>Private room</td>\n",
       "      <td>135</td>\n",
       "      <td>1</td>\n",
       "      <td>0</td>\n",
       "      <td>NaN</td>\n",
       "      <td>NaN</td>\n",
       "      <td>18</td>\n",
       "      <td>355</td>\n",
       "    </tr>\n",
       "    <tr>\n",
       "      <th>26896</th>\n",
       "      <td>21312403</td>\n",
       "      <td>Hillside Hotel</td>\n",
       "      <td>134184451</td>\n",
       "      <td>Hillside Hotel</td>\n",
       "      <td>Queens</td>\n",
       "      <td>Jamaica</td>\n",
       "      <td>40.70423</td>\n",
       "      <td>-73.81440</td>\n",
       "      <td>Private room</td>\n",
       "      <td>165</td>\n",
       "      <td>1</td>\n",
       "      <td>0</td>\n",
       "      <td>NaN</td>\n",
       "      <td>NaN</td>\n",
       "      <td>18</td>\n",
       "      <td>362</td>\n",
       "    </tr>\n",
       "    <tr>\n",
       "      <th>26897</th>\n",
       "      <td>21312440</td>\n",
       "      <td>Hillside Hotel</td>\n",
       "      <td>134184451</td>\n",
       "      <td>Hillside Hotel</td>\n",
       "      <td>Queens</td>\n",
       "      <td>Jamaica</td>\n",
       "      <td>40.70269</td>\n",
       "      <td>-73.81585</td>\n",
       "      <td>Private room</td>\n",
       "      <td>165</td>\n",
       "      <td>1</td>\n",
       "      <td>0</td>\n",
       "      <td>NaN</td>\n",
       "      <td>NaN</td>\n",
       "      <td>18</td>\n",
       "      <td>360</td>\n",
       "    </tr>\n",
       "    <tr>\n",
       "      <th>26898</th>\n",
       "      <td>21312495</td>\n",
       "      <td>Hillside Hotel</td>\n",
       "      <td>134184451</td>\n",
       "      <td>Hillside Hotel</td>\n",
       "      <td>Queens</td>\n",
       "      <td>Jamaica</td>\n",
       "      <td>40.70426</td>\n",
       "      <td>-73.81509</td>\n",
       "      <td>Private room</td>\n",
       "      <td>165</td>\n",
       "      <td>1</td>\n",
       "      <td>0</td>\n",
       "      <td>NaN</td>\n",
       "      <td>NaN</td>\n",
       "      <td>18</td>\n",
       "      <td>362</td>\n",
       "    </tr>\n",
       "    <tr>\n",
       "      <th>26899</th>\n",
       "      <td>21312549</td>\n",
       "      <td>Hillside Hotel</td>\n",
       "      <td>134184451</td>\n",
       "      <td>Hillside Hotel</td>\n",
       "      <td>Queens</td>\n",
       "      <td>Jamaica</td>\n",
       "      <td>40.70262</td>\n",
       "      <td>-73.81579</td>\n",
       "      <td>Private room</td>\n",
       "      <td>165</td>\n",
       "      <td>1</td>\n",
       "      <td>0</td>\n",
       "      <td>NaN</td>\n",
       "      <td>NaN</td>\n",
       "      <td>18</td>\n",
       "      <td>355</td>\n",
       "    </tr>\n",
       "    <tr>\n",
       "      <th>26900</th>\n",
       "      <td>21312595</td>\n",
       "      <td>Hillside Hotel</td>\n",
       "      <td>134184451</td>\n",
       "      <td>Hillside Hotel</td>\n",
       "      <td>Queens</td>\n",
       "      <td>Briarwood</td>\n",
       "      <td>40.70475</td>\n",
       "      <td>-73.81572</td>\n",
       "      <td>Private room</td>\n",
       "      <td>165</td>\n",
       "      <td>1</td>\n",
       "      <td>2</td>\n",
       "      <td>2018-01-01</td>\n",
       "      <td>0.09</td>\n",
       "      <td>18</td>\n",
       "      <td>355</td>\n",
       "    </tr>\n",
       "    <tr>\n",
       "      <th>26901</th>\n",
       "      <td>21312687</td>\n",
       "      <td>Hillside Hotel</td>\n",
       "      <td>134184451</td>\n",
       "      <td>Hillside Hotel</td>\n",
       "      <td>Queens</td>\n",
       "      <td>Briarwood</td>\n",
       "      <td>40.70471</td>\n",
       "      <td>-73.81542</td>\n",
       "      <td>Private room</td>\n",
       "      <td>135</td>\n",
       "      <td>1</td>\n",
       "      <td>3</td>\n",
       "      <td>2018-01-01</td>\n",
       "      <td>0.15</td>\n",
       "      <td>18</td>\n",
       "      <td>319</td>\n",
       "    </tr>\n",
       "    <tr>\n",
       "      <th>26902</th>\n",
       "      <td>21312732</td>\n",
       "      <td>Hillside Hotel</td>\n",
       "      <td>134184451</td>\n",
       "      <td>Hillside Hotel</td>\n",
       "      <td>Queens</td>\n",
       "      <td>Briarwood</td>\n",
       "      <td>40.70455</td>\n",
       "      <td>-73.81528</td>\n",
       "      <td>Private room</td>\n",
       "      <td>135</td>\n",
       "      <td>1</td>\n",
       "      <td>0</td>\n",
       "      <td>NaN</td>\n",
       "      <td>NaN</td>\n",
       "      <td>18</td>\n",
       "      <td>309</td>\n",
       "    </tr>\n",
       "  </tbody>\n",
       "</table>\n",
       "</div>"
      ],
      "text/plain": [
       "             id            name    host_id       host_name  \\\n",
       "24152  19456810  Hillside Hotel  134184451  Hillside Hotel   \n",
       "24607  19785737  Hillside Hotel  134184451  Hillside Hotel   \n",
       "26734  21231543  Hillside Hotel  134184451  Hillside Hotel   \n",
       "26752  21243952  Hillside Hotel  134184451  Hillside Hotel   \n",
       "26753  21244035  Hillside Hotel  134184451  Hillside Hotel   \n",
       "26889  21311903  Hillside Hotel  134184451  Hillside Hotel   \n",
       "26891  21312075  Hillside Hotel  134184451  Hillside Hotel   \n",
       "26892  21312191  Hillside Hotel  134184451  Hillside Hotel   \n",
       "26893  21312225  Hillside Hotel  134184451  Hillside Hotel   \n",
       "26894  21312283  Hillside Hotel  134184451  Hillside Hotel   \n",
       "26895  21312330  Hillside Hotel  134184451  Hillside Hotel   \n",
       "26896  21312403  Hillside Hotel  134184451  Hillside Hotel   \n",
       "26897  21312440  Hillside Hotel  134184451  Hillside Hotel   \n",
       "26898  21312495  Hillside Hotel  134184451  Hillside Hotel   \n",
       "26899  21312549  Hillside Hotel  134184451  Hillside Hotel   \n",
       "26900  21312595  Hillside Hotel  134184451  Hillside Hotel   \n",
       "26901  21312687  Hillside Hotel  134184451  Hillside Hotel   \n",
       "26902  21312732  Hillside Hotel  134184451  Hillside Hotel   \n",
       "\n",
       "      neighbourhood_group neighbourhood  latitude  longitude     room_type  \\\n",
       "24152              Queens     Briarwood  40.70454  -73.81549  Private room   \n",
       "24607              Queens       Jamaica  40.70445  -73.81399  Private room   \n",
       "26734              Queens       Jamaica  40.70428  -73.81353  Private room   \n",
       "26752              Queens       Jamaica  40.70288  -73.81531  Private room   \n",
       "26753              Queens       Jamaica  40.70319  -73.81410  Private room   \n",
       "26889              Queens       Jamaica  40.70258  -73.81510  Private room   \n",
       "26891              Queens       Jamaica  40.70333  -73.81380  Private room   \n",
       "26892              Queens       Jamaica  40.70259  -73.81415  Private room   \n",
       "26893              Queens       Jamaica  40.70262  -73.81526  Private room   \n",
       "26894              Queens     Briarwood  40.70450  -73.81447  Private room   \n",
       "26895              Queens     Briarwood  40.70458  -73.81418  Private room   \n",
       "26896              Queens       Jamaica  40.70423  -73.81440  Private room   \n",
       "26897              Queens       Jamaica  40.70269  -73.81585  Private room   \n",
       "26898              Queens       Jamaica  40.70426  -73.81509  Private room   \n",
       "26899              Queens       Jamaica  40.70262  -73.81579  Private room   \n",
       "26900              Queens     Briarwood  40.70475  -73.81572  Private room   \n",
       "26901              Queens     Briarwood  40.70471  -73.81542  Private room   \n",
       "26902              Queens     Briarwood  40.70455  -73.81528  Private room   \n",
       "\n",
       "       price  minimum_nights  number_of_reviews last_review  \\\n",
       "24152     93               1                  2  2017-07-23   \n",
       "24607    135               1                  1  2017-10-08   \n",
       "26734    135               1                  0         NaN   \n",
       "26752    135               1                  1  2018-01-02   \n",
       "26753    135               1                  2  2018-06-10   \n",
       "26889    135               1                  0         NaN   \n",
       "26891    135               1                  0         NaN   \n",
       "26892    135               1                  0         NaN   \n",
       "26893    135               1                  1  2017-12-10   \n",
       "26894    135               1                  0         NaN   \n",
       "26895    135               1                  0         NaN   \n",
       "26896    165               1                  0         NaN   \n",
       "26897    165               1                  0         NaN   \n",
       "26898    165               1                  0         NaN   \n",
       "26899    165               1                  0         NaN   \n",
       "26900    165               1                  2  2018-01-01   \n",
       "26901    135               1                  3  2018-01-01   \n",
       "26902    135               1                  0         NaN   \n",
       "\n",
       "       reviews_per_month  calculated_host_listings_count  availability_365  \n",
       "24152               0.08                              18                90  \n",
       "24607               0.05                              18               180  \n",
       "26734                NaN                              18               365  \n",
       "26752               0.05                              18               365  \n",
       "26753               0.09                              18               365  \n",
       "26889                NaN                              18               365  \n",
       "26891                NaN                              18               365  \n",
       "26892                NaN                              18               365  \n",
       "26893               0.05                              18               365  \n",
       "26894                NaN                              18               355  \n",
       "26895                NaN                              18               355  \n",
       "26896                NaN                              18               362  \n",
       "26897                NaN                              18               360  \n",
       "26898                NaN                              18               362  \n",
       "26899                NaN                              18               355  \n",
       "26900               0.09                              18               355  \n",
       "26901               0.15                              18               319  \n",
       "26902                NaN                              18               309  "
      ]
     },
     "execution_count": 10,
     "metadata": {},
     "output_type": "execute_result"
    }
   ],
   "source": [
    "df[df['name'] == 'Hillside Hotel'] #checking a sample property with multiple records"
   ]
  },
  {
   "cell_type": "code",
   "execution_count": 11,
   "id": "7a7bd7d1",
   "metadata": {
    "execution": {
     "iopub.execute_input": "2024-09-10T16:54:07.455324Z",
     "iopub.status.busy": "2024-09-10T16:54:07.454919Z",
     "iopub.status.idle": "2024-09-10T16:54:07.515071Z",
     "shell.execute_reply": "2024-09-10T16:54:07.513944Z"
    },
    "papermill": {
     "duration": 0.07151,
     "end_time": "2024-09-10T16:54:07.517874",
     "exception": false,
     "start_time": "2024-09-10T16:54:07.446364",
     "status": "completed"
    },
    "tags": []
   },
   "outputs": [
    {
     "data": {
      "text/plain": [
       "0"
      ]
     },
     "execution_count": 11,
     "metadata": {},
     "output_type": "execute_result"
    }
   ],
   "source": [
    "df.duplicated().sum() #Checking any duplicate records to ensure data accuracy."
   ]
  },
  {
   "cell_type": "code",
   "execution_count": 12,
   "id": "5e9f7cdf",
   "metadata": {
    "execution": {
     "iopub.execute_input": "2024-09-10T16:54:07.534271Z",
     "iopub.status.busy": "2024-09-10T16:54:07.533872Z",
     "iopub.status.idle": "2024-09-10T16:54:07.594630Z",
     "shell.execute_reply": "2024-09-10T16:54:07.593471Z"
    },
    "papermill": {
     "duration": 0.07201,
     "end_time": "2024-09-10T16:54:07.597388",
     "exception": false,
     "start_time": "2024-09-10T16:54:07.525378",
     "status": "completed"
    },
    "tags": []
   },
   "outputs": [],
   "source": [
    "df.drop_duplicates(inplace=True) #Handling any duplicate records to ensure data accuracy."
   ]
  },
  {
   "cell_type": "code",
   "execution_count": 13,
   "id": "2326041c",
   "metadata": {
    "execution": {
     "iopub.execute_input": "2024-09-10T16:54:07.613602Z",
     "iopub.status.busy": "2024-09-10T16:54:07.613203Z",
     "iopub.status.idle": "2024-09-10T16:54:07.624117Z",
     "shell.execute_reply": "2024-09-10T16:54:07.623039Z"
    },
    "papermill": {
     "duration": 0.021996,
     "end_time": "2024-09-10T16:54:07.626687",
     "exception": false,
     "start_time": "2024-09-10T16:54:07.604691",
     "status": "completed"
    },
    "tags": []
   },
   "outputs": [],
   "source": [
    "# removing unnecessary columns\n",
    "df.drop(['name','id','host_name','last_review'], axis=1, inplace=True)"
   ]
  },
  {
   "cell_type": "code",
   "execution_count": 14,
   "id": "421fea0f",
   "metadata": {
    "execution": {
     "iopub.execute_input": "2024-09-10T16:54:07.643023Z",
     "iopub.status.busy": "2024-09-10T16:54:07.642603Z",
     "iopub.status.idle": "2024-09-10T16:54:07.662929Z",
     "shell.execute_reply": "2024-09-10T16:54:07.661365Z"
    },
    "papermill": {
     "duration": 0.031256,
     "end_time": "2024-09-10T16:54:07.665367",
     "exception": false,
     "start_time": "2024-09-10T16:54:07.634111",
     "status": "completed"
    },
    "tags": []
   },
   "outputs": [
    {
     "name": "stdout",
     "output_type": "stream",
     "text": [
      "<class 'pandas.core.frame.DataFrame'>\n",
      "RangeIndex: 48895 entries, 0 to 48894\n",
      "Data columns (total 12 columns):\n",
      " #   Column                          Non-Null Count  Dtype  \n",
      "---  ------                          --------------  -----  \n",
      " 0   host_id                         48895 non-null  int64  \n",
      " 1   neighbourhood_group             48895 non-null  object \n",
      " 2   neighbourhood                   48895 non-null  object \n",
      " 3   latitude                        48895 non-null  float64\n",
      " 4   longitude                       48895 non-null  float64\n",
      " 5   room_type                       48895 non-null  object \n",
      " 6   price                           48895 non-null  int64  \n",
      " 7   minimum_nights                  48895 non-null  int64  \n",
      " 8   number_of_reviews               48895 non-null  int64  \n",
      " 9   reviews_per_month               38843 non-null  float64\n",
      " 10  calculated_host_listings_count  48895 non-null  int64  \n",
      " 11  availability_365                48895 non-null  int64  \n",
      "dtypes: float64(3), int64(6), object(3)\n",
      "memory usage: 4.5+ MB\n"
     ]
    }
   ],
   "source": [
    "df.info()"
   ]
  },
  {
   "cell_type": "code",
   "execution_count": 15,
   "id": "93b279e6",
   "metadata": {
    "execution": {
     "iopub.execute_input": "2024-09-10T16:54:07.682265Z",
     "iopub.status.busy": "2024-09-10T16:54:07.681812Z",
     "iopub.status.idle": "2024-09-10T16:54:07.698837Z",
     "shell.execute_reply": "2024-09-10T16:54:07.697648Z"
    },
    "papermill": {
     "duration": 0.028231,
     "end_time": "2024-09-10T16:54:07.701235",
     "exception": false,
     "start_time": "2024-09-10T16:54:07.673004",
     "status": "completed"
    },
    "tags": []
   },
   "outputs": [
    {
     "data": {
      "text/plain": [
       "host_id                               0\n",
       "neighbourhood_group                   0\n",
       "neighbourhood                         0\n",
       "latitude                              0\n",
       "longitude                             0\n",
       "room_type                             0\n",
       "price                                 0\n",
       "minimum_nights                        0\n",
       "number_of_reviews                     0\n",
       "reviews_per_month                 10052\n",
       "calculated_host_listings_count        0\n",
       "availability_365                      0\n",
       "dtype: int64"
      ]
     },
     "execution_count": 15,
     "metadata": {},
     "output_type": "execute_result"
    }
   ],
   "source": [
    "df.isnull().sum()"
   ]
  },
  {
   "cell_type": "code",
   "execution_count": 16,
   "id": "80d45082",
   "metadata": {
    "execution": {
     "iopub.execute_input": "2024-09-10T16:54:07.718196Z",
     "iopub.status.busy": "2024-09-10T16:54:07.717780Z",
     "iopub.status.idle": "2024-09-10T16:54:07.737369Z",
     "shell.execute_reply": "2024-09-10T16:54:07.736247Z"
    },
    "papermill": {
     "duration": 0.030782,
     "end_time": "2024-09-10T16:54:07.739792",
     "exception": false,
     "start_time": "2024-09-10T16:54:07.709010",
     "status": "completed"
    },
    "tags": []
   },
   "outputs": [
    {
     "data": {
      "text/html": [
       "<div>\n",
       "<style scoped>\n",
       "    .dataframe tbody tr th:only-of-type {\n",
       "        vertical-align: middle;\n",
       "    }\n",
       "\n",
       "    .dataframe tbody tr th {\n",
       "        vertical-align: top;\n",
       "    }\n",
       "\n",
       "    .dataframe thead th {\n",
       "        text-align: right;\n",
       "    }\n",
       "</style>\n",
       "<table border=\"1\" class=\"dataframe\">\n",
       "  <thead>\n",
       "    <tr style=\"text-align: right;\">\n",
       "      <th></th>\n",
       "      <th>host_id</th>\n",
       "      <th>neighbourhood_group</th>\n",
       "      <th>neighbourhood</th>\n",
       "      <th>latitude</th>\n",
       "      <th>longitude</th>\n",
       "      <th>room_type</th>\n",
       "      <th>price</th>\n",
       "      <th>minimum_nights</th>\n",
       "      <th>number_of_reviews</th>\n",
       "      <th>reviews_per_month</th>\n",
       "      <th>calculated_host_listings_count</th>\n",
       "      <th>availability_365</th>\n",
       "    </tr>\n",
       "  </thead>\n",
       "  <tbody>\n",
       "    <tr>\n",
       "      <th>2</th>\n",
       "      <td>4632</td>\n",
       "      <td>Manhattan</td>\n",
       "      <td>Harlem</td>\n",
       "      <td>40.80902</td>\n",
       "      <td>-73.94190</td>\n",
       "      <td>Private room</td>\n",
       "      <td>150</td>\n",
       "      <td>3</td>\n",
       "      <td>0</td>\n",
       "      <td>NaN</td>\n",
       "      <td>1</td>\n",
       "      <td>365</td>\n",
       "    </tr>\n",
       "    <tr>\n",
       "      <th>19</th>\n",
       "      <td>17985</td>\n",
       "      <td>Manhattan</td>\n",
       "      <td>East Harlem</td>\n",
       "      <td>40.79685</td>\n",
       "      <td>-73.94872</td>\n",
       "      <td>Entire home/apt</td>\n",
       "      <td>190</td>\n",
       "      <td>7</td>\n",
       "      <td>0</td>\n",
       "      <td>NaN</td>\n",
       "      <td>2</td>\n",
       "      <td>249</td>\n",
       "    </tr>\n",
       "    <tr>\n",
       "      <th>26</th>\n",
       "      <td>26394</td>\n",
       "      <td>Manhattan</td>\n",
       "      <td>Inwood</td>\n",
       "      <td>40.86754</td>\n",
       "      <td>-73.92639</td>\n",
       "      <td>Private room</td>\n",
       "      <td>80</td>\n",
       "      <td>4</td>\n",
       "      <td>0</td>\n",
       "      <td>NaN</td>\n",
       "      <td>1</td>\n",
       "      <td>0</td>\n",
       "    </tr>\n",
       "    <tr>\n",
       "      <th>36</th>\n",
       "      <td>7355</td>\n",
       "      <td>Brooklyn</td>\n",
       "      <td>Bedford-Stuyvesant</td>\n",
       "      <td>40.68876</td>\n",
       "      <td>-73.94312</td>\n",
       "      <td>Private room</td>\n",
       "      <td>35</td>\n",
       "      <td>60</td>\n",
       "      <td>0</td>\n",
       "      <td>NaN</td>\n",
       "      <td>1</td>\n",
       "      <td>365</td>\n",
       "    </tr>\n",
       "    <tr>\n",
       "      <th>38</th>\n",
       "      <td>45445</td>\n",
       "      <td>Brooklyn</td>\n",
       "      <td>Flatbush</td>\n",
       "      <td>40.63702</td>\n",
       "      <td>-73.96327</td>\n",
       "      <td>Private room</td>\n",
       "      <td>150</td>\n",
       "      <td>1</td>\n",
       "      <td>0</td>\n",
       "      <td>NaN</td>\n",
       "      <td>1</td>\n",
       "      <td>365</td>\n",
       "    </tr>\n",
       "    <tr>\n",
       "      <th>...</th>\n",
       "      <td>...</td>\n",
       "      <td>...</td>\n",
       "      <td>...</td>\n",
       "      <td>...</td>\n",
       "      <td>...</td>\n",
       "      <td>...</td>\n",
       "      <td>...</td>\n",
       "      <td>...</td>\n",
       "      <td>...</td>\n",
       "      <td>...</td>\n",
       "      <td>...</td>\n",
       "      <td>...</td>\n",
       "    </tr>\n",
       "    <tr>\n",
       "      <th>48890</th>\n",
       "      <td>8232441</td>\n",
       "      <td>Brooklyn</td>\n",
       "      <td>Bedford-Stuyvesant</td>\n",
       "      <td>40.67853</td>\n",
       "      <td>-73.94995</td>\n",
       "      <td>Private room</td>\n",
       "      <td>70</td>\n",
       "      <td>2</td>\n",
       "      <td>0</td>\n",
       "      <td>NaN</td>\n",
       "      <td>2</td>\n",
       "      <td>9</td>\n",
       "    </tr>\n",
       "    <tr>\n",
       "      <th>48891</th>\n",
       "      <td>6570630</td>\n",
       "      <td>Brooklyn</td>\n",
       "      <td>Bushwick</td>\n",
       "      <td>40.70184</td>\n",
       "      <td>-73.93317</td>\n",
       "      <td>Private room</td>\n",
       "      <td>40</td>\n",
       "      <td>4</td>\n",
       "      <td>0</td>\n",
       "      <td>NaN</td>\n",
       "      <td>2</td>\n",
       "      <td>36</td>\n",
       "    </tr>\n",
       "    <tr>\n",
       "      <th>48892</th>\n",
       "      <td>23492952</td>\n",
       "      <td>Manhattan</td>\n",
       "      <td>Harlem</td>\n",
       "      <td>40.81475</td>\n",
       "      <td>-73.94867</td>\n",
       "      <td>Entire home/apt</td>\n",
       "      <td>115</td>\n",
       "      <td>10</td>\n",
       "      <td>0</td>\n",
       "      <td>NaN</td>\n",
       "      <td>1</td>\n",
       "      <td>27</td>\n",
       "    </tr>\n",
       "    <tr>\n",
       "      <th>48893</th>\n",
       "      <td>30985759</td>\n",
       "      <td>Manhattan</td>\n",
       "      <td>Hell's Kitchen</td>\n",
       "      <td>40.75751</td>\n",
       "      <td>-73.99112</td>\n",
       "      <td>Shared room</td>\n",
       "      <td>55</td>\n",
       "      <td>1</td>\n",
       "      <td>0</td>\n",
       "      <td>NaN</td>\n",
       "      <td>6</td>\n",
       "      <td>2</td>\n",
       "    </tr>\n",
       "    <tr>\n",
       "      <th>48894</th>\n",
       "      <td>68119814</td>\n",
       "      <td>Manhattan</td>\n",
       "      <td>Hell's Kitchen</td>\n",
       "      <td>40.76404</td>\n",
       "      <td>-73.98933</td>\n",
       "      <td>Private room</td>\n",
       "      <td>90</td>\n",
       "      <td>7</td>\n",
       "      <td>0</td>\n",
       "      <td>NaN</td>\n",
       "      <td>1</td>\n",
       "      <td>23</td>\n",
       "    </tr>\n",
       "  </tbody>\n",
       "</table>\n",
       "<p>10052 rows × 12 columns</p>\n",
       "</div>"
      ],
      "text/plain": [
       "        host_id neighbourhood_group       neighbourhood  latitude  longitude  \\\n",
       "2          4632           Manhattan              Harlem  40.80902  -73.94190   \n",
       "19        17985           Manhattan         East Harlem  40.79685  -73.94872   \n",
       "26        26394           Manhattan              Inwood  40.86754  -73.92639   \n",
       "36         7355            Brooklyn  Bedford-Stuyvesant  40.68876  -73.94312   \n",
       "38        45445            Brooklyn            Flatbush  40.63702  -73.96327   \n",
       "...         ...                 ...                 ...       ...        ...   \n",
       "48890   8232441            Brooklyn  Bedford-Stuyvesant  40.67853  -73.94995   \n",
       "48891   6570630            Brooklyn            Bushwick  40.70184  -73.93317   \n",
       "48892  23492952           Manhattan              Harlem  40.81475  -73.94867   \n",
       "48893  30985759           Manhattan      Hell's Kitchen  40.75751  -73.99112   \n",
       "48894  68119814           Manhattan      Hell's Kitchen  40.76404  -73.98933   \n",
       "\n",
       "             room_type  price  minimum_nights  number_of_reviews  \\\n",
       "2         Private room    150               3                  0   \n",
       "19     Entire home/apt    190               7                  0   \n",
       "26        Private room     80               4                  0   \n",
       "36        Private room     35              60                  0   \n",
       "38        Private room    150               1                  0   \n",
       "...                ...    ...             ...                ...   \n",
       "48890     Private room     70               2                  0   \n",
       "48891     Private room     40               4                  0   \n",
       "48892  Entire home/apt    115              10                  0   \n",
       "48893      Shared room     55               1                  0   \n",
       "48894     Private room     90               7                  0   \n",
       "\n",
       "       reviews_per_month  calculated_host_listings_count  availability_365  \n",
       "2                    NaN                               1               365  \n",
       "19                   NaN                               2               249  \n",
       "26                   NaN                               1                 0  \n",
       "36                   NaN                               1               365  \n",
       "38                   NaN                               1               365  \n",
       "...                  ...                             ...               ...  \n",
       "48890                NaN                               2                 9  \n",
       "48891                NaN                               2                36  \n",
       "48892                NaN                               1                27  \n",
       "48893                NaN                               6                 2  \n",
       "48894                NaN                               1                23  \n",
       "\n",
       "[10052 rows x 12 columns]"
      ]
     },
     "execution_count": 16,
     "metadata": {},
     "output_type": "execute_result"
    }
   ],
   "source": [
    "df[df.reviews_per_month.isna()]"
   ]
  },
  {
   "cell_type": "code",
   "execution_count": 17,
   "id": "4e321b42",
   "metadata": {
    "execution": {
     "iopub.execute_input": "2024-09-10T16:54:07.758697Z",
     "iopub.status.busy": "2024-09-10T16:54:07.758243Z",
     "iopub.status.idle": "2024-09-10T16:54:07.773415Z",
     "shell.execute_reply": "2024-09-10T16:54:07.772232Z"
    },
    "papermill": {
     "duration": 0.028099,
     "end_time": "2024-09-10T16:54:07.776117",
     "exception": false,
     "start_time": "2024-09-10T16:54:07.748018",
     "status": "completed"
    },
    "tags": []
   },
   "outputs": [
    {
     "data": {
      "text/plain": [
       "count    38843.000000\n",
       "mean         1.373221\n",
       "std          1.680442\n",
       "min          0.010000\n",
       "25%          0.190000\n",
       "50%          0.720000\n",
       "75%          2.020000\n",
       "max         58.500000\n",
       "Name: reviews_per_month, dtype: float64"
      ]
     },
     "execution_count": 17,
     "metadata": {},
     "output_type": "execute_result"
    }
   ],
   "source": [
    "df.reviews_per_month.describe()"
   ]
  },
  {
   "cell_type": "code",
   "execution_count": 18,
   "id": "73c7a118",
   "metadata": {
    "execution": {
     "iopub.execute_input": "2024-09-10T16:54:07.794976Z",
     "iopub.status.busy": "2024-09-10T16:54:07.793886Z",
     "iopub.status.idle": "2024-09-10T16:54:07.800650Z",
     "shell.execute_reply": "2024-09-10T16:54:07.799693Z"
    },
    "papermill": {
     "duration": 0.018373,
     "end_time": "2024-09-10T16:54:07.802951",
     "exception": false,
     "start_time": "2024-09-10T16:54:07.784578",
     "status": "completed"
    },
    "tags": []
   },
   "outputs": [],
   "source": [
    "# filling missing values with 0\n",
    "# df.fillna(0, inplace=True) or\n",
    "df.fillna({'reviews_per_month':0}, inplace=True)"
   ]
  },
  {
   "cell_type": "code",
   "execution_count": 19,
   "id": "d89755ca",
   "metadata": {
    "execution": {
     "iopub.execute_input": "2024-09-10T16:54:07.821138Z",
     "iopub.status.busy": "2024-09-10T16:54:07.820330Z",
     "iopub.status.idle": "2024-09-10T16:54:07.829197Z",
     "shell.execute_reply": "2024-09-10T16:54:07.828329Z"
    },
    "papermill": {
     "duration": 0.020571,
     "end_time": "2024-09-10T16:54:07.831525",
     "exception": false,
     "start_time": "2024-09-10T16:54:07.810954",
     "status": "completed"
    },
    "tags": []
   },
   "outputs": [
    {
     "data": {
      "text/plain": [
       "0"
      ]
     },
     "execution_count": 19,
     "metadata": {},
     "output_type": "execute_result"
    }
   ],
   "source": [
    "df.reviews_per_month.isnull().sum()"
   ]
  },
  {
   "cell_type": "code",
   "execution_count": 20,
   "id": "b44b4785",
   "metadata": {
    "execution": {
     "iopub.execute_input": "2024-09-10T16:54:07.849927Z",
     "iopub.status.busy": "2024-09-10T16:54:07.849480Z",
     "iopub.status.idle": "2024-09-10T16:54:07.863455Z",
     "shell.execute_reply": "2024-09-10T16:54:07.862248Z"
    },
    "papermill": {
     "duration": 0.026024,
     "end_time": "2024-09-10T16:54:07.865913",
     "exception": false,
     "start_time": "2024-09-10T16:54:07.839889",
     "status": "completed"
    },
    "tags": []
   },
   "outputs": [
    {
     "data": {
      "text/plain": [
       "count    48895.000000\n",
       "mean         1.090910\n",
       "std          1.597283\n",
       "min          0.000000\n",
       "25%          0.040000\n",
       "50%          0.370000\n",
       "75%          1.580000\n",
       "max         58.500000\n",
       "Name: reviews_per_month, dtype: float64"
      ]
     },
     "execution_count": 20,
     "metadata": {},
     "output_type": "execute_result"
    }
   ],
   "source": [
    "df.reviews_per_month.describe()"
   ]
  },
  {
   "cell_type": "code",
   "execution_count": 21,
   "id": "02c806ad",
   "metadata": {
    "execution": {
     "iopub.execute_input": "2024-09-10T16:54:07.885398Z",
     "iopub.status.busy": "2024-09-10T16:54:07.884986Z",
     "iopub.status.idle": "2024-09-10T16:54:07.902121Z",
     "shell.execute_reply": "2024-09-10T16:54:07.900803Z"
    },
    "papermill": {
     "duration": 0.030328,
     "end_time": "2024-09-10T16:54:07.904671",
     "exception": false,
     "start_time": "2024-09-10T16:54:07.874343",
     "status": "completed"
    },
    "tags": []
   },
   "outputs": [
    {
     "data": {
      "text/plain": [
       "host_id                           0\n",
       "neighbourhood_group               0\n",
       "neighbourhood                     0\n",
       "latitude                          0\n",
       "longitude                         0\n",
       "room_type                         0\n",
       "price                             0\n",
       "minimum_nights                    0\n",
       "number_of_reviews                 0\n",
       "reviews_per_month                 0\n",
       "calculated_host_listings_count    0\n",
       "availability_365                  0\n",
       "dtype: int64"
      ]
     },
     "execution_count": 21,
     "metadata": {},
     "output_type": "execute_result"
    }
   ],
   "source": [
    "df.isnull().sum()"
   ]
  },
  {
   "cell_type": "code",
   "execution_count": null,
   "id": "7fa2ff41",
   "metadata": {
    "papermill": {
     "duration": 0.008001,
     "end_time": "2024-09-10T16:54:07.921202",
     "exception": false,
     "start_time": "2024-09-10T16:54:07.913201",
     "status": "completed"
    },
    "tags": []
   },
   "outputs": [],
   "source": []
  }
 ],
 "metadata": {
  "kaggle": {
   "accelerator": "none",
   "dataSources": [
    {
     "datasetId": 4823778,
     "sourceId": 8155005,
     "sourceType": "datasetVersion"
    }
   ],
   "dockerImageVersionId": 30761,
   "isGpuEnabled": false,
   "isInternetEnabled": true,
   "language": "python",
   "sourceType": "notebook"
  },
  "kernelspec": {
   "display_name": "Python 3",
   "language": "python",
   "name": "python3"
  },
  "language_info": {
   "codemirror_mode": {
    "name": "ipython",
    "version": 3
   },
   "file_extension": ".py",
   "mimetype": "text/x-python",
   "name": "python",
   "nbconvert_exporter": "python",
   "pygments_lexer": "ipython3",
   "version": "3.10.14"
  },
  "papermill": {
   "default_parameters": {},
   "duration": 5.833271,
   "end_time": "2024-09-10T16:54:08.451434",
   "environment_variables": {},
   "exception": null,
   "input_path": "__notebook__.ipynb",
   "output_path": "__notebook__.ipynb",
   "parameters": {},
   "start_time": "2024-09-10T16:54:02.618163",
   "version": "2.6.0"
  }
 },
 "nbformat": 4,
 "nbformat_minor": 5
}
